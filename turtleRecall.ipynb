{
 "cells": [
  {
   "cell_type": "markdown",
   "metadata": {},
   "source": [
    "# Turtle Recall\n",
    "A facial recognition model for turtles\n",
    "\n",
    "https://zindi.africa/competitions/turtle-recall-conservation-challenge/data"
   ]
  },
  {
   "cell_type": "markdown",
   "metadata": {},
   "source": [
    "# Imports"
   ]
  },
  {
   "cell_type": "code",
   "execution_count": 1,
   "metadata": {},
   "outputs": [],
   "source": [
    "import tensorflow as tf\n",
    "import tensorflow_addons as tfa\n",
    "import tensorflow_hub as hub\n",
    "import pandas as pd\n",
    "import numpy as np\n",
    "import matplotlib.pyplot as plt\n",
    "import seaborn as sns\n",
    "import os\n",
    "import tqdm\n",
    "from PIL import Image"
   ]
  },
  {
   "cell_type": "code",
   "execution_count": 2,
   "metadata": {},
   "outputs": [
    {
     "name": "stdout",
     "output_type": "stream",
     "text": [
      "TensorFlow version is 2.7.0\n"
     ]
    }
   ],
   "source": [
    "print(f'TensorFlow version is {tf.__version__}')"
   ]
  },
  {
   "cell_type": "code",
   "execution_count": 3,
   "metadata": {},
   "outputs": [
    {
     "name": "stdout",
     "output_type": "stream",
     "text": [
      "Num GPUs: 1\n"
     ]
    }
   ],
   "source": [
    "physical_devices = tf.config.list_physical_devices('GPU')\n",
    "print(\"Num GPUs:\", len(physical_devices))"
   ]
  },
  {
   "cell_type": "markdown",
   "metadata": {},
   "source": [
    "# Dataset"
   ]
  },
  {
   "cell_type": "markdown",
   "metadata": {},
   "source": [
    "First, we load the data. In addition to the turtles and images from the train.csv file, we also make use of extra_images.csv by concatenation with the train file. This yields substantially more (ca. 10.000) image files to later train the model on."
   ]
  },
  {
   "cell_type": "code",
   "execution_count": 4,
   "metadata": {},
   "outputs": [],
   "source": [
    "IMAGE_DIR = './data/images'"
   ]
  },
  {
   "cell_type": "code",
   "execution_count": 36,
   "metadata": {},
   "outputs": [],
   "source": [
    "train = pd.read_csv(\"./data/train.csv\")\n",
    "extra_images = pd.read_csv(\"./data/extra_images.csv\")\n",
    "\n",
    "# Convert image_location strings to lowercase.\n",
    "for row in [train]:\n",
    "  row.image_location = row.image_location.apply(lambda x: x.lower())\n",
    "  assert set(row.image_location.unique()) == set(['left', 'right', 'top'])\n",
    "\n",
    "df = pd.concat(objs=[train, extra_images])"
   ]
  },
  {
   "cell_type": "code",
   "execution_count": 37,
   "metadata": {},
   "outputs": [
    {
     "name": "stdout",
     "output_type": "stream",
     "text": [
      "The total number of turtles is 2265.\n",
      "The mean number of training images per turtle is 5.65, and the median is 3.\n"
     ]
    }
   ],
   "source": [
    "images_per_turtle = pd.value_counts(df.turtle_id)\n",
    "print(f'The total number of turtles is {len(df.turtle_id.unique())}.\\n'\n",
    "      'The mean number of training images per turtle is '\n",
    "      f'{round(np.mean(images_per_turtle), 2)}, '\n",
    "      f'and the median is {int(np.median(images_per_turtle))}.')"
   ]
  },
  {
   "cell_type": "markdown",
   "metadata": {},
   "source": [
    "As we can see, however, we don't get a lot of images per turtle on average. Actually, some 2000 turtles are represented with less than 10 images in the dataset, which leads to a huge imbalance. Hence, we decide not to make use of any turtle with less than `MIN_NR_IMGS`."
   ]
  },
  {
   "cell_type": "code",
   "execution_count": 38,
   "metadata": {},
   "outputs": [],
   "source": [
    "MIN_NR_IMGS = 10\n",
    "\n",
    "im_per_turtle = images_per_turtle[images_per_turtle >= MIN_NR_IMGS].to_frame()\n",
    "df = df[df.turtle_id.isin(im_per_turtle.index)].reset_index()"
   ]
  },
  {
   "cell_type": "code",
   "execution_count": 39,
   "metadata": {},
   "outputs": [
    {
     "name": "stdout",
     "output_type": "stream",
     "text": [
      "The total number of turtles after removal is 253.\n",
      "The mean number of training images per turtle is now 19.72, and the median is 14. \n",
      "The smallest number of images per turtle is 10.\n"
     ]
    }
   ],
   "source": [
    "images_per_turtle = pd.value_counts(df.turtle_id)\n",
    "print(f'The total number of turtles after removal is {len(df.turtle_id.unique())}.\\n'\n",
    "      'The mean number of training images per turtle is now '\n",
    "      f'{round(np.mean(images_per_turtle), 2)}, '\n",
    "      f'and the median is {int(np.median(images_per_turtle))}. \\n'\n",
    "      f'The smallest number of images per turtle is '\n",
    "      f'{min(df.turtle_id.value_counts())}.')"
   ]
  },
  {
   "cell_type": "code",
   "execution_count": 40,
   "metadata": {},
   "outputs": [
    {
     "name": "stdout",
     "output_type": "stream",
     "text": [
      "(4990, 4)\n"
     ]
    },
    {
     "data": {
      "text/html": [
       "<div>\n",
       "<style scoped>\n",
       "    .dataframe tbody tr th:only-of-type {\n",
       "        vertical-align: middle;\n",
       "    }\n",
       "\n",
       "    .dataframe tbody tr th {\n",
       "        vertical-align: top;\n",
       "    }\n",
       "\n",
       "    .dataframe thead th {\n",
       "        text-align: right;\n",
       "    }\n",
       "</style>\n",
       "<table border=\"1\" class=\"dataframe\">\n",
       "  <thead>\n",
       "    <tr style=\"text-align: right;\">\n",
       "      <th></th>\n",
       "      <th>index</th>\n",
       "      <th>image_id</th>\n",
       "      <th>image_location</th>\n",
       "      <th>turtle_id</th>\n",
       "    </tr>\n",
       "  </thead>\n",
       "  <tbody>\n",
       "    <tr>\n",
       "      <th>0</th>\n",
       "      <td>0</td>\n",
       "      <td>ID_2RK4WLN8</td>\n",
       "      <td>top</td>\n",
       "      <td>t_id_VP2NW7aV</td>\n",
       "    </tr>\n",
       "    <tr>\n",
       "      <th>1</th>\n",
       "      <td>1</td>\n",
       "      <td>ID_VVW0QXLX</td>\n",
       "      <td>left</td>\n",
       "      <td>t_id_qZ0iZYsC</td>\n",
       "    </tr>\n",
       "    <tr>\n",
       "      <th>2</th>\n",
       "      <td>2</td>\n",
       "      <td>ID_RVATH2HZ</td>\n",
       "      <td>right</td>\n",
       "      <td>t_id_3b65X5Lw</td>\n",
       "    </tr>\n",
       "  </tbody>\n",
       "</table>\n",
       "</div>"
      ],
      "text/plain": [
       "   index     image_id image_location      turtle_id\n",
       "0      0  ID_2RK4WLN8            top  t_id_VP2NW7aV\n",
       "1      1  ID_VVW0QXLX           left  t_id_qZ0iZYsC\n",
       "2      2  ID_RVATH2HZ          right  t_id_3b65X5Lw"
      ]
     },
     "execution_count": 40,
     "metadata": {},
     "output_type": "execute_result"
    }
   ],
   "source": [
    "print(df.shape)\n",
    "df.head(3)"
   ]
  },
  {
   "cell_type": "markdown",
   "metadata": {},
   "source": [
    "We have now removed a significant portion of the data and are left with about 5000 images, which is still more than double the amount of the initial images in the `train.csv`. There is, however, still a huge imbalance in the dataset and the total number of files is quite small."
   ]
  },
  {
   "cell_type": "code",
   "execution_count": 66,
   "metadata": {},
   "outputs": [
    {
     "data": {
      "image/png": "[encoded data removed]",
      "image/svg+xml": "<?xml version=\"1.0\" encoding=\"utf-8\" standalone=\"no\"?>\n<!DOCTYPE svg PUBLIC \"-//W3C//DTD SVG 1.1//EN\"\n  \"http://www.w3.org/Graphics/SVG/1.1/DTD/svg11.dtd\">\n<svg xmlns:xlink=\"http://www.w3.org/1999/xlink\" width=\"375.2875pt\" height=\"262.338437pt\" viewBox=\"0 0 375.2875 262.338437\" xmlns=\"http://www.w3.org/2000/svg\" version=\"1.1\">\n <metadata>\n  <rdf:RDF xmlns:dc=\"http://purl.org/dc/elements/1.1/\" xmlns:cc=\"http://creativecommons.org/ns#\" xmlns:rdf=\"http://www.w3.org/1999/02/22-rdf-syntax-ns#\">\n   <cc:Work>\n    <dc:type rdf:resource=\"http://purl.org/dc/dcmitype/StillImage\"/>\n    <dc:date>2022-04-06T15:53:10.708724</dc:date>\n    <dc:format>image/svg+xml</dc:format>\n    <dc:creator>\n     <cc:Agent>\n      <dc:title>Matplotlib v3.5.1, https://matplotlib.org/</dc:title>\n     </cc:Agent>\n    </dc:creator>\n   </cc:Work>\n  </rdf:RDF>\n </metadata>\n <defs>\n  <style type=\"text/css\">*{stroke-linejoin: round; stroke-linecap: butt}</style>\n </defs>\n <g id=\"figure_1\">\n  <g id=\"patch_1\">\n   <path d=\"M 0 262.338437 \nL 375.2875 262.338437 \nL 375.2875 0 \nL 0 0 \nL 0 262.338437 \nz\n\" style=\"fill: none\"/>\n  </g>\n  <g id=\"axes_1\">\n   <g id=\"patch_2\">\n    <path d=\"M 33.2875 224.64 \nL 368.0875 224.64 \nL 368.0875 7.2 \nL 33.2875 7.2 \nz\n\" style=\"fill: #ffffff\"/>\n   </g>\n   <g id=\"patch_3\">\n    <path d=\"M 48.505682 224.64 \nL 62.270871 224.64 \nL 62.270871 17.554286 \nL 48.505682 17.554286 \nz\n\" clip-path=\"url(#pce15045beb)\" style=\"fill: #1f77b4\"/>\n   </g>\n   <g id=\"patch_4\">\n    <path d=\"M 63.800337 224.64 \nL 77.565526 224.64 \nL 77.565526 178.318195 \nL 63.800337 178.318195 \nz\n\" clip-path=\"url(#pce15045beb)\" style=\"fill: #1f77b4\"/>\n   </g>\n   <g id=\"patch_5\">\n    <path d=\"M 79.094992 224.64 \nL 92.860182 224.64 \nL 92.860182 193.304662 \nL 79.094992 193.304662 \nz\n\" clip-path=\"url(#pce15045beb)\" style=\"fill: #1f77b4\"/>\n   </g>\n   <g id=\"patch_6\">\n    <path d=\"M 94.389647 224.64 \nL 108.154837 224.64 \nL 108.154837 213.740752 \nL 94.389647 213.740752 \nz\n\" clip-path=\"url(#pce15045beb)\" style=\"fill: #1f77b4\"/>\n   </g>\n   <g id=\"patch_7\">\n    <path d=\"M 109.684302 224.64 \nL 123.449492 224.64 \nL 123.449492 216.465564 \nL 109.684302 216.465564 \nz\n\" clip-path=\"url(#pce15045beb)\" style=\"fill: #1f77b4\"/>\n   </g>\n   <g id=\"patch_8\">\n    <path d=\"M 124.978957 224.64 \nL 138.744147 224.64 \nL 138.744147 211.01594 \nL 124.978957 211.01594 \nz\n\" clip-path=\"url(#pce15045beb)\" style=\"fill: #1f77b4\"/>\n   </g>\n   <g id=\"patch_9\">\n    <path d=\"M 140.273612 224.64 \nL 154.038802 224.64 \nL 154.038802 221.915188 \nL 140.273612 221.915188 \nz\n\" clip-path=\"url(#pce15045beb)\" style=\"fill: #1f77b4\"/>\n   </g>\n   <g id=\"patch_10\">\n    <path d=\"M 155.568267 224.64 \nL 169.333457 224.64 \nL 169.333457 213.740752 \nL 155.568267 213.740752 \nz\n\" clip-path=\"url(#pce15045beb)\" style=\"fill: #1f77b4\"/>\n   </g>\n   <g id=\"patch_11\">\n    <path d=\"M 170.862923 224.64 \nL 184.628112 224.64 \nL 184.628112 221.915188 \nL 170.862923 221.915188 \nz\n\" clip-path=\"url(#pce15045beb)\" style=\"fill: #1f77b4\"/>\n   </g>\n   <g id=\"patch_12\">\n    <path d=\"M 186.157578 224.64 \nL 199.922767 224.64 \nL 199.922767 223.277594 \nL 186.157578 223.277594 \nz\n\" clip-path=\"url(#pce15045beb)\" style=\"fill: #1f77b4\"/>\n   </g>\n   <g id=\"patch_13\">\n    <path d=\"M 201.452233 224.64 \nL 215.217422 224.64 \nL 215.217422 223.277594 \nL 201.452233 223.277594 \nz\n\" clip-path=\"url(#pce15045beb)\" style=\"fill: #1f77b4\"/>\n   </g>\n   <g id=\"patch_14\">\n    <path d=\"M 216.746888 224.64 \nL 230.512077 224.64 \nL 230.512077 220.552782 \nL 216.746888 220.552782 \nz\n\" clip-path=\"url(#pce15045beb)\" style=\"fill: #1f77b4\"/>\n   </g>\n   <g id=\"patch_15\">\n    <path d=\"M 232.041543 224.64 \nL 245.806733 224.64 \nL 245.806733 224.64 \nL 232.041543 224.64 \nz\n\" clip-path=\"url(#pce15045beb)\" style=\"fill: #1f77b4\"/>\n   </g>\n   <g id=\"patch_16\">\n    <path d=\"M 247.336198 224.64 \nL 261.101388 224.64 \nL 261.101388 224.64 \nL 247.336198 224.64 \nz\n\" clip-path=\"url(#pce15045beb)\" style=\"fill: #1f77b4\"/>\n   </g>\n   <g id=\"patch_17\">\n    <path d=\"M 262.630853 224.64 \nL 276.396043 224.64 \nL 276.396043 223.277594 \nL 262.630853 223.277594 \nz\n\" clip-path=\"url(#pce15045beb)\" style=\"fill: #1f77b4\"/>\n   </g>\n   <g id=\"patch_18\">\n    <path d=\"M 277.925508 224.64 \nL 291.690698 224.64 \nL 291.690698 224.64 \nL 277.925508 224.64 \nz\n\" clip-path=\"url(#pce15045beb)\" style=\"fill: #1f77b4\"/>\n   </g>\n   <g id=\"patch_19\">\n    <path d=\"M 293.220163 224.64 \nL 306.985353 224.64 \nL 306.985353 224.64 \nL 293.220163 224.64 \nz\n\" clip-path=\"url(#pce15045beb)\" style=\"fill: #1f77b4\"/>\n   </g>\n   <g id=\"patch_20\">\n    <path d=\"M 308.514818 224.64 \nL 322.280008 224.64 \nL 322.280008 224.64 \nL 308.514818 224.64 \nz\n\" clip-path=\"url(#pce15045beb)\" style=\"fill: #1f77b4\"/>\n   </g>\n   <g id=\"patch_21\">\n    <path d=\"M 323.809474 224.64 \nL 337.574663 224.64 \nL 337.574663 224.64 \nL 323.809474 224.64 \nz\n\" clip-path=\"url(#pce15045beb)\" style=\"fill: #1f77b4\"/>\n   </g>\n   <g id=\"patch_22\">\n    <path d=\"M 339.104129 224.64 \nL 352.869318 224.64 \nL 352.869318 221.915188 \nL 339.104129 221.915188 \nz\n\" clip-path=\"url(#pce15045beb)\" style=\"fill: #1f77b4\"/>\n   </g>\n   <g id=\"matplotlib.axis_1\">\n    <g id=\"xtick_1\">\n     <g id=\"line2d_1\">\n      <defs>\n       <path id=\"m223f38ba6e\" d=\"M 0 0 \nL 0 3.5 \n\" style=\"stroke: #000000; stroke-width: 0.8\"/>\n      </defs>\n      <g>\n       <use xlink:href=\"#m223f38ba6e\" x=\"76.873625\" y=\"224.64\" style=\"stroke: #000000; stroke-width: 0.8\"/>\n      </g>\n     </g>\n     <g id=\"text_1\">\n      <!-- 20 -->\n      <g transform=\"translate(70.511125 239.238438)scale(0.1 -0.1)\">\n       <defs>\n        <path id=\"DejaVuSerif-32\" d=\"M 819 3553 \nL 469 3553 \nL 469 4384 \nQ 803 4563 1142 4656 \nQ 1481 4750 1806 4750 \nQ 2534 4750 2956 4397 \nQ 3378 4044 3378 3438 \nQ 3378 2753 2422 1800 \nQ 2347 1728 2309 1691 \nL 1131 513 \nL 3078 513 \nL 3078 1088 \nL 3444 1088 \nL 3444 0 \nL 434 0 \nL 434 341 \nL 1850 1753 \nQ 2319 2222 2519 2614 \nQ 2719 3006 2719 3438 \nQ 2719 3909 2473 4175 \nQ 2228 4441 1797 4441 \nQ 1350 4441 1106 4219 \nQ 863 3997 819 3553 \nz\n\" transform=\"scale(0.015625)\"/>\n        <path id=\"DejaVuSerif-30\" d=\"M 2034 219 \nQ 2513 219 2750 744 \nQ 2988 1269 2988 2328 \nQ 2988 3391 2750 3916 \nQ 2513 4441 2034 4441 \nQ 1556 4441 1318 3916 \nQ 1081 3391 1081 2328 \nQ 1081 1269 1318 744 \nQ 1556 219 2034 219 \nz\nM 2034 -91 \nQ 1275 -91 848 546 \nQ 422 1184 422 2328 \nQ 422 3475 848 4112 \nQ 1275 4750 2034 4750 \nQ 2797 4750 3222 4112 \nQ 3647 3475 3647 2328 \nQ 3647 1184 3222 546 \nQ 2797 -91 2034 -91 \nz\n\" transform=\"scale(0.015625)\"/>\n       </defs>\n       <use xlink:href=\"#DejaVuSerif-32\"/>\n       <use xlink:href=\"#DejaVuSerif-30\" x=\"63.623047\"/>\n      </g>\n     </g>\n    </g>\n    <g id=\"xtick_2\">\n     <g id=\"line2d_2\">\n      <g>\n       <use xlink:href=\"#m223f38ba6e\" x=\"135.138978\" y=\"224.64\" style=\"stroke: #000000; stroke-width: 0.8\"/>\n      </g>\n     </g>\n     <g id=\"text_2\">\n      <!-- 40 -->\n      <g transform=\"translate(128.776478 239.238438)scale(0.1 -0.1)\">\n       <defs>\n        <path id=\"DejaVuSerif-34\" d=\"M 2234 1581 \nL 2234 4063 \nL 641 1581 \nL 2234 1581 \nz\nM 3609 0 \nL 1484 0 \nL 1484 331 \nL 2234 331 \nL 2234 1247 \nL 197 1247 \nL 197 1588 \nL 2241 4750 \nL 2859 4750 \nL 2859 1581 \nL 3750 1581 \nL 3750 1247 \nL 2859 1247 \nL 2859 331 \nL 3609 331 \nL 3609 0 \nz\n\" transform=\"scale(0.015625)\"/>\n       </defs>\n       <use xlink:href=\"#DejaVuSerif-34\"/>\n       <use xlink:href=\"#DejaVuSerif-30\" x=\"63.623047\"/>\n      </g>\n     </g>\n    </g>\n    <g id=\"xtick_3\">\n     <g id=\"line2d_3\">\n      <g>\n       <use xlink:href=\"#m223f38ba6e\" x=\"193.404331\" y=\"224.64\" style=\"stroke: #000000; stroke-width: 0.8\"/>\n      </g>\n     </g>\n     <g id=\"text_3\">\n      <!-- 60 -->\n      <g transform=\"translate(187.041831 239.238438)scale(0.1 -0.1)\">\n       <defs>\n        <path id=\"DejaVuSerif-36\" d=\"M 2094 219 \nQ 2534 219 2771 542 \nQ 3009 866 3009 1472 \nQ 3009 2078 2771 2401 \nQ 2534 2725 2094 2725 \nQ 1647 2725 1412 2412 \nQ 1178 2100 1178 1509 \nQ 1178 888 1415 553 \nQ 1653 219 2094 219 \nz\nM 1075 2569 \nQ 1288 2803 1556 2918 \nQ 1825 3034 2163 3034 \nQ 2859 3034 3264 2615 \nQ 3669 2197 3669 1472 \nQ 3669 763 3233 336 \nQ 2797 -91 2069 -91 \nQ 1278 -91 853 498 \nQ 428 1088 428 2181 \nQ 428 3406 931 4078 \nQ 1434 4750 2350 4750 \nQ 2597 4750 2869 4703 \nQ 3141 4656 3425 4563 \nL 3425 3794 \nL 3072 3794 \nQ 3034 4109 2831 4275 \nQ 2628 4441 2284 4441 \nQ 1678 4441 1381 3981 \nQ 1084 3522 1075 2569 \nz\n\" transform=\"scale(0.015625)\"/>\n       </defs>\n       <use xlink:href=\"#DejaVuSerif-36\"/>\n       <use xlink:href=\"#DejaVuSerif-30\" x=\"63.623047\"/>\n      </g>\n     </g>\n    </g>\n    <g id=\"xtick_4\">\n     <g id=\"line2d_4\">\n      <g>\n       <use xlink:href=\"#m223f38ba6e\" x=\"251.669684\" y=\"224.64\" style=\"stroke: #000000; stroke-width: 0.8\"/>\n      </g>\n     </g>\n     <g id=\"text_4\">\n      <!-- 80 -->\n      <g transform=\"translate(245.307184 239.238438)scale(0.1 -0.1)\">\n       <defs>\n        <path id=\"DejaVuSerif-38\" d=\"M 2981 1275 \nQ 2981 1775 2732 2051 \nQ 2484 2328 2034 2328 \nQ 1584 2328 1336 2051 \nQ 1088 1775 1088 1275 \nQ 1088 772 1336 495 \nQ 1584 219 2034 219 \nQ 2484 219 2732 495 \nQ 2981 772 2981 1275 \nz\nM 2853 3541 \nQ 2853 3966 2637 4203 \nQ 2422 4441 2034 4441 \nQ 1650 4441 1433 4203 \nQ 1216 3966 1216 3541 \nQ 1216 3113 1433 2875 \nQ 1650 2638 2034 2638 \nQ 2422 2638 2637 2875 \nQ 2853 3113 2853 3541 \nz\nM 2516 2484 \nQ 3047 2413 3344 2092 \nQ 3641 1772 3641 1275 \nQ 3641 619 3225 264 \nQ 2809 -91 2034 -91 \nQ 1263 -91 845 264 \nQ 428 619 428 1275 \nQ 428 1772 725 2092 \nQ 1022 2413 1556 2484 \nQ 1084 2569 832 2842 \nQ 581 3116 581 3541 \nQ 581 4103 968 4426 \nQ 1356 4750 2034 4750 \nQ 2713 4750 3100 4426 \nQ 3488 4103 3488 3541 \nQ 3488 3116 3236 2842 \nQ 2984 2569 2516 2484 \nz\n\" transform=\"scale(0.015625)\"/>\n       </defs>\n       <use xlink:href=\"#DejaVuSerif-38\"/>\n       <use xlink:href=\"#DejaVuSerif-30\" x=\"63.623047\"/>\n      </g>\n     </g>\n    </g>\n    <g id=\"xtick_5\">\n     <g id=\"line2d_5\">\n      <g>\n       <use xlink:href=\"#m223f38ba6e\" x=\"309.935036\" y=\"224.64\" style=\"stroke: #000000; stroke-width: 0.8\"/>\n      </g>\n     </g>\n     <g id=\"text_5\">\n      <!-- 100 -->\n      <g transform=\"translate(300.391286 239.238438)scale(0.1 -0.1)\">\n       <defs>\n        <path id=\"DejaVuSerif-31\" d=\"M 909 0 \nL 909 331 \nL 1722 331 \nL 1722 4213 \nL 781 3603 \nL 781 4013 \nL 1919 4750 \nL 2350 4750 \nL 2350 331 \nL 3163 331 \nL 3163 0 \nL 909 0 \nz\n\" transform=\"scale(0.015625)\"/>\n       </defs>\n       <use xlink:href=\"#DejaVuSerif-31\"/>\n       <use xlink:href=\"#DejaVuSerif-30\" x=\"63.623047\"/>\n       <use xlink:href=\"#DejaVuSerif-30\" x=\"127.246094\"/>\n      </g>\n     </g>\n    </g>\n    <g id=\"text_6\">\n     <g id=\"patch_23\">\n      <path d=\"M 152.348437 259.138438 \nL 249.026563 259.138438 \nL 249.026563 241.318125 \nL 152.348437 241.318125 \nL 152.348437 259.138438 \nz\n\" style=\"fill: none; stroke: #000000; stroke-linejoin: miter\"/>\n     </g>\n     <!-- Images per turtle -->\n     <g transform=\"translate(156.348437 252.916562)scale(0.1 -0.1)\">\n      <defs>\n       <path id=\"DejaVuSerif-49\" d=\"M 1581 331 \nL 2175 331 \nL 2175 0 \nL 353 0 \nL 353 331 \nL 947 331 \nL 947 4331 \nL 353 4331 \nL 353 4666 \nL 2175 4666 \nL 2175 4331 \nL 1581 4331 \nL 1581 331 \nz\n\" transform=\"scale(0.015625)\"/>\n       <path id=\"DejaVuSerif-6d\" d=\"M 3316 2675 \nQ 3481 3041 3739 3227 \nQ 3997 3413 4341 3413 \nQ 4863 3413 5119 3089 \nQ 5375 2766 5375 2113 \nL 5375 331 \nL 5894 331 \nL 5894 0 \nL 4300 0 \nL 4300 331 \nL 4800 331 \nL 4800 2047 \nQ 4800 2556 4650 2772 \nQ 4500 2988 4153 2988 \nQ 3769 2988 3567 2697 \nQ 3366 2406 3366 1850 \nL 3366 331 \nL 3866 331 \nL 3866 0 \nL 2291 0 \nL 2291 331 \nL 2791 331 \nL 2791 2069 \nQ 2791 2566 2641 2777 \nQ 2491 2988 2144 2988 \nQ 1759 2988 1557 2697 \nQ 1356 2406 1356 1850 \nL 1356 331 \nL 1856 331 \nL 1856 0 \nL 263 0 \nL 263 331 \nL 781 331 \nL 781 2994 \nL 231 2994 \nL 231 3322 \nL 1356 3322 \nL 1356 2731 \nQ 1516 3063 1762 3238 \nQ 2009 3413 2322 3413 \nQ 2709 3413 2968 3220 \nQ 3228 3028 3316 2675 \nz\n\" transform=\"scale(0.015625)\"/>\n       <path id=\"DejaVuSerif-61\" d=\"M 2547 1044 \nL 2547 1747 \nL 1806 1747 \nQ 1378 1747 1168 1562 \nQ 959 1378 959 997 \nQ 959 650 1171 447 \nQ 1384 244 1747 244 \nQ 2106 244 2326 466 \nQ 2547 688 2547 1044 \nz\nM 3122 2075 \nL 3122 331 \nL 3634 331 \nL 3634 0 \nL 2547 0 \nL 2547 359 \nQ 2356 128 2106 18 \nQ 1856 -91 1522 -91 \nQ 969 -91 644 203 \nQ 319 497 319 997 \nQ 319 1513 691 1797 \nQ 1063 2081 1741 2081 \nL 2547 2081 \nL 2547 2309 \nQ 2547 2688 2317 2895 \nQ 2088 3103 1672 3103 \nQ 1328 3103 1125 2947 \nQ 922 2791 872 2484 \nL 575 2484 \nL 575 3156 \nQ 875 3284 1158 3348 \nQ 1441 3413 1709 3413 \nQ 2400 3413 2761 3070 \nQ 3122 2728 3122 2075 \nz\n\" transform=\"scale(0.015625)\"/>\n       <path id=\"DejaVuSerif-67\" d=\"M 3359 2988 \nL 3359 72 \nQ 3359 -644 2965 -1033 \nQ 2572 -1422 1844 -1422 \nQ 1516 -1422 1216 -1362 \nQ 916 -1303 641 -1184 \nL 641 -488 \nL 941 -488 \nQ 997 -813 1206 -963 \nQ 1416 -1113 1806 -1113 \nQ 2313 -1113 2548 -827 \nQ 2784 -541 2784 72 \nL 2784 519 \nQ 2616 206 2355 57 \nQ 2094 -91 1709 -91 \nQ 1097 -91 708 395 \nQ 319 881 319 1663 \nQ 319 2444 706 2928 \nQ 1094 3413 1709 3413 \nQ 2094 3413 2355 3264 \nQ 2616 3116 2784 2803 \nL 2784 3322 \nL 3909 3322 \nL 3909 2988 \nL 3359 2988 \nz\nM 2784 1825 \nQ 2784 2422 2554 2737 \nQ 2325 3053 1888 3053 \nQ 1444 3053 1217 2703 \nQ 991 2353 991 1663 \nQ 991 975 1217 622 \nQ 1444 269 1888 269 \nQ 2325 269 2554 583 \nQ 2784 897 2784 1497 \nL 2784 1825 \nz\n\" transform=\"scale(0.015625)\"/>\n       <path id=\"DejaVuSerif-65\" d=\"M 3469 1600 \nL 991 1600 \nL 991 1575 \nQ 991 903 1244 561 \nQ 1497 219 1991 219 \nQ 2369 219 2611 417 \nQ 2853 616 2950 1006 \nL 3413 1006 \nQ 3275 459 2904 184 \nQ 2534 -91 1931 -91 \nQ 1203 -91 761 389 \nQ 319 869 319 1663 \nQ 319 2450 753 2931 \nQ 1188 3413 1894 3413 \nQ 2647 3413 3050 2948 \nQ 3453 2484 3469 1600 \nz\nM 2791 1931 \nQ 2772 2513 2545 2808 \nQ 2319 3103 1894 3103 \nQ 1497 3103 1269 2806 \nQ 1041 2509 991 1931 \nL 2791 1931 \nz\n\" transform=\"scale(0.015625)\"/>\n       <path id=\"DejaVuSerif-73\" d=\"M 359 184 \nL 359 959 \nL 691 959 \nQ 703 588 923 403 \nQ 1144 219 1575 219 \nQ 1963 219 2166 364 \nQ 2369 509 2369 788 \nQ 2369 1006 2220 1140 \nQ 2072 1275 1594 1428 \nL 1178 1569 \nQ 750 1706 558 1912 \nQ 366 2119 366 2438 \nQ 366 2894 700 3153 \nQ 1034 3413 1625 3413 \nQ 1888 3413 2178 3344 \nQ 2469 3275 2778 3144 \nL 2778 2419 \nL 2447 2419 \nQ 2434 2741 2221 2922 \nQ 2009 3103 1644 3103 \nQ 1281 3103 1095 2975 \nQ 909 2847 909 2591 \nQ 909 2381 1050 2254 \nQ 1191 2128 1613 1997 \nL 2069 1856 \nQ 2541 1709 2748 1489 \nQ 2956 1269 2956 922 \nQ 2956 450 2595 179 \nQ 2234 -91 1600 -91 \nQ 1278 -91 972 -22 \nQ 666 47 359 184 \nz\n\" transform=\"scale(0.015625)\"/>\n       <path id=\"DejaVuSerif-20\" transform=\"scale(0.015625)\"/>\n       <path id=\"DejaVuSerif-70\" d=\"M 1313 1825 \nL 1313 1497 \nQ 1313 897 1542 583 \nQ 1772 269 2209 269 \nQ 2650 269 2876 622 \nQ 3103 975 3103 1663 \nQ 3103 2353 2876 2703 \nQ 2650 3053 2209 3053 \nQ 1772 3053 1542 2737 \nQ 1313 2422 1313 1825 \nz\nM 738 2988 \nL 184 2988 \nL 184 3322 \nL 1313 3322 \nL 1313 2803 \nQ 1481 3116 1742 3264 \nQ 2003 3413 2388 3413 \nQ 3000 3413 3387 2928 \nQ 3775 2444 3775 1663 \nQ 3775 881 3387 395 \nQ 3000 -91 2388 -91 \nQ 2003 -91 1742 57 \nQ 1481 206 1313 519 \nL 1313 -997 \nL 1856 -997 \nL 1856 -1331 \nL 184 -1331 \nL 184 -997 \nL 738 -997 \nL 738 2988 \nz\n\" transform=\"scale(0.015625)\"/>\n       <path id=\"DejaVuSerif-72\" d=\"M 3059 3328 \nL 3059 2497 \nL 2728 2497 \nQ 2713 2744 2591 2866 \nQ 2469 2988 2234 2988 \nQ 1809 2988 1582 2694 \nQ 1356 2400 1356 1850 \nL 1356 331 \nL 2022 331 \nL 2022 0 \nL 263 0 \nL 263 331 \nL 781 331 \nL 781 2994 \nL 231 2994 \nL 231 3322 \nL 1356 3322 \nL 1356 2731 \nQ 1525 3078 1790 3245 \nQ 2056 3413 2438 3413 \nQ 2578 3413 2733 3391 \nQ 2888 3369 3059 3328 \nz\n\" transform=\"scale(0.015625)\"/>\n       <path id=\"DejaVuSerif-74\" d=\"M 691 2988 \nL 184 2988 \nL 184 3322 \nL 691 3322 \nL 691 4353 \nL 1269 4353 \nL 1269 3322 \nL 2350 3322 \nL 2350 2988 \nL 1269 2988 \nL 1269 878 \nQ 1269 456 1350 337 \nQ 1431 219 1650 219 \nQ 1875 219 1978 351 \nQ 2081 484 2088 781 \nL 2522 781 \nQ 2497 328 2275 118 \nQ 2053 -91 1600 -91 \nQ 1103 -91 897 129 \nQ 691 350 691 878 \nL 691 2988 \nz\n\" transform=\"scale(0.015625)\"/>\n       <path id=\"DejaVuSerif-75\" d=\"M 2266 3322 \nL 3341 3322 \nL 3341 331 \nL 3884 331 \nL 3884 0 \nL 2766 0 \nL 2766 588 \nQ 2606 256 2353 82 \nQ 2100 -91 1766 -91 \nQ 1213 -91 952 223 \nQ 691 538 691 1209 \nL 691 2988 \nL 172 2988 \nL 172 3322 \nL 1269 3322 \nL 1269 1388 \nQ 1269 781 1417 556 \nQ 1566 331 1947 331 \nQ 2347 331 2556 625 \nQ 2766 919 2766 1478 \nL 2766 2988 \nL 2266 2988 \nL 2266 3322 \nz\n\" transform=\"scale(0.015625)\"/>\n       <path id=\"DejaVuSerif-6c\" d=\"M 1313 331 \nL 1856 331 \nL 1856 0 \nL 184 0 \nL 184 331 \nL 738 331 \nL 738 4531 \nL 184 4531 \nL 184 4863 \nL 1313 4863 \nL 1313 331 \nz\n\" transform=\"scale(0.015625)\"/>\n      </defs>\n      <use xlink:href=\"#DejaVuSerif-49\"/>\n      <use xlink:href=\"#DejaVuSerif-6d\" x=\"39.501953\"/>\n      <use xlink:href=\"#DejaVuSerif-61\" x=\"134.326172\"/>\n      <use xlink:href=\"#DejaVuSerif-67\" x=\"193.945312\"/>\n      <use xlink:href=\"#DejaVuSerif-65\" x=\"257.958984\"/>\n      <use xlink:href=\"#DejaVuSerif-73\" x=\"317.138672\"/>\n      <use xlink:href=\"#DejaVuSerif-20\" x=\"368.457031\"/>\n      <use xlink:href=\"#DejaVuSerif-70\" x=\"400.244141\"/>\n      <use xlink:href=\"#DejaVuSerif-65\" x=\"464.257812\"/>\n      <use xlink:href=\"#DejaVuSerif-72\" x=\"523.4375\"/>\n      <use xlink:href=\"#DejaVuSerif-20\" x=\"571.240234\"/>\n      <use xlink:href=\"#DejaVuSerif-74\" x=\"603.027344\"/>\n      <use xlink:href=\"#DejaVuSerif-75\" x=\"643.212891\"/>\n      <use xlink:href=\"#DejaVuSerif-72\" x=\"707.617188\"/>\n      <use xlink:href=\"#DejaVuSerif-74\" x=\"755.419922\"/>\n      <use xlink:href=\"#DejaVuSerif-6c\" x=\"795.605469\"/>\n      <use xlink:href=\"#DejaVuSerif-65\" x=\"827.587891\"/>\n     </g>\n    </g>\n   </g>\n   <g id=\"matplotlib.axis_2\">\n    <g id=\"ytick_1\">\n     <g id=\"line2d_6\">\n      <defs>\n       <path id=\"m74ceb3895e\" d=\"M 0 0 \nL -3.5 0 \n\" style=\"stroke: #000000; stroke-width: 0.8\"/>\n      </defs>\n      <g>\n       <use xlink:href=\"#m74ceb3895e\" x=\"33.2875\" y=\"224.64\" style=\"stroke: #000000; stroke-width: 0.8\"/>\n      </g>\n     </g>\n     <g id=\"text_7\">\n      <!-- 0 -->\n      <g transform=\"translate(19.925 228.439219)scale(0.1 -0.1)\">\n       <use xlink:href=\"#DejaVuSerif-30\"/>\n      </g>\n     </g>\n    </g>\n    <g id=\"ytick_2\">\n     <g id=\"line2d_7\">\n      <g>\n       <use xlink:href=\"#m74ceb3895e\" x=\"33.2875\" y=\"197.39188\" style=\"stroke: #000000; stroke-width: 0.8\"/>\n      </g>\n     </g>\n     <g id=\"text_8\">\n      <!-- 20 -->\n      <g transform=\"translate(13.5625 201.191098)scale(0.1 -0.1)\">\n       <use xlink:href=\"#DejaVuSerif-32\"/>\n       <use xlink:href=\"#DejaVuSerif-30\" x=\"63.623047\"/>\n      </g>\n     </g>\n    </g>\n    <g id=\"ytick_3\">\n     <g id=\"line2d_8\">\n      <g>\n       <use xlink:href=\"#m74ceb3895e\" x=\"33.2875\" y=\"170.143759\" style=\"stroke: #000000; stroke-width: 0.8\"/>\n      </g>\n     </g>\n     <g id=\"text_9\">\n      <!-- 40 -->\n      <g transform=\"translate(13.5625 173.942978)scale(0.1 -0.1)\">\n       <use xlink:href=\"#DejaVuSerif-34\"/>\n       <use xlink:href=\"#DejaVuSerif-30\" x=\"63.623047\"/>\n      </g>\n     </g>\n    </g>\n    <g id=\"ytick_4\">\n     <g id=\"line2d_9\">\n      <g>\n       <use xlink:href=\"#m74ceb3895e\" x=\"33.2875\" y=\"142.895639\" style=\"stroke: #000000; stroke-width: 0.8\"/>\n      </g>\n     </g>\n     <g id=\"text_10\">\n      <!-- 60 -->\n      <g transform=\"translate(13.5625 146.694858)scale(0.1 -0.1)\">\n       <use xlink:href=\"#DejaVuSerif-36\"/>\n       <use xlink:href=\"#DejaVuSerif-30\" x=\"63.623047\"/>\n      </g>\n     </g>\n    </g>\n    <g id=\"ytick_5\">\n     <g id=\"line2d_10\">\n      <g>\n       <use xlink:href=\"#m74ceb3895e\" x=\"33.2875\" y=\"115.647519\" style=\"stroke: #000000; stroke-width: 0.8\"/>\n      </g>\n     </g>\n     <g id=\"text_11\">\n      <!-- 80 -->\n      <g transform=\"translate(13.5625 119.446738)scale(0.1 -0.1)\">\n       <use xlink:href=\"#DejaVuSerif-38\"/>\n       <use xlink:href=\"#DejaVuSerif-30\" x=\"63.623047\"/>\n      </g>\n     </g>\n    </g>\n    <g id=\"ytick_6\">\n     <g id=\"line2d_11\">\n      <g>\n       <use xlink:href=\"#m74ceb3895e\" x=\"33.2875\" y=\"88.399398\" style=\"stroke: #000000; stroke-width: 0.8\"/>\n      </g>\n     </g>\n     <g id=\"text_12\">\n      <!-- 100 -->\n      <g transform=\"translate(7.2 92.198617)scale(0.1 -0.1)\">\n       <use xlink:href=\"#DejaVuSerif-31\"/>\n       <use xlink:href=\"#DejaVuSerif-30\" x=\"63.623047\"/>\n       <use xlink:href=\"#DejaVuSerif-30\" x=\"127.246094\"/>\n      </g>\n     </g>\n    </g>\n    <g id=\"ytick_7\">\n     <g id=\"line2d_12\">\n      <g>\n       <use xlink:href=\"#m74ceb3895e\" x=\"33.2875\" y=\"61.151278\" style=\"stroke: #000000; stroke-width: 0.8\"/>\n      </g>\n     </g>\n     <g id=\"text_13\">\n      <!-- 120 -->\n      <g transform=\"translate(7.2 64.950497)scale(0.1 -0.1)\">\n       <use xlink:href=\"#DejaVuSerif-31\"/>\n       <use xlink:href=\"#DejaVuSerif-32\" x=\"63.623047\"/>\n       <use xlink:href=\"#DejaVuSerif-30\" x=\"127.246094\"/>\n      </g>\n     </g>\n    </g>\n    <g id=\"ytick_8\">\n     <g id=\"line2d_13\">\n      <g>\n       <use xlink:href=\"#m74ceb3895e\" x=\"33.2875\" y=\"33.903158\" style=\"stroke: #000000; stroke-width: 0.8\"/>\n      </g>\n     </g>\n     <g id=\"text_14\">\n      <!-- 140 -->\n      <g transform=\"translate(7.2 37.702377)scale(0.1 -0.1)\">\n       <use xlink:href=\"#DejaVuSerif-31\"/>\n       <use xlink:href=\"#DejaVuSerif-34\" x=\"63.623047\"/>\n       <use xlink:href=\"#DejaVuSerif-30\" x=\"127.246094\"/>\n      </g>\n     </g>\n    </g>\n   </g>\n   <g id=\"patch_24\">\n    <path d=\"M 33.2875 224.64 \nL 33.2875 7.2 \n\" style=\"fill: none; stroke: #000000; stroke-width: 0.8; stroke-linejoin: miter; stroke-linecap: square\"/>\n   </g>\n   <g id=\"patch_25\">\n    <path d=\"M 368.0875 224.64 \nL 368.0875 7.2 \n\" style=\"fill: none; stroke: #000000; stroke-width: 0.8; stroke-linejoin: miter; stroke-linecap: square\"/>\n   </g>\n   <g id=\"patch_26\">\n    <path d=\"M 33.2875 224.64 \nL 368.0875 224.64 \n\" style=\"fill: none; stroke: #000000; stroke-width: 0.8; stroke-linejoin: miter; stroke-linecap: square\"/>\n   </g>\n   <g id=\"patch_27\">\n    <path d=\"M 33.2875 7.2 \nL 368.0875 7.2 \n\" style=\"fill: none; stroke: #000000; stroke-width: 0.8; stroke-linejoin: miter; stroke-linecap: square\"/>\n   </g>\n  </g>\n </g>\n <defs>\n  <clipPath id=\"pce15045beb\">\n   <rect x=\"33.2875\" y=\"7.2\" width=\"334.8\" height=\"217.44\"/>\n  </clipPath>\n </defs>\n</svg>\n",
      "text/plain": [
       "<Figure size 432x288 with 1 Axes>"
      ]
     },
     "metadata": {
      "needs_background": "light"
     },
     "output_type": "display_data"
    }
   ],
   "source": [
    "plt.hist(x=images_per_turtle, rwidth=0.9, bins=20)\n",
    "plt.xlabel('Images per turtle', fontfamily='serif', bbox=dict(facecolor='none', edgecolor='black'))\n",
    "plt.xticks(fontfamily='serif')\n",
    "plt.yticks(fontfamily='serif')\n",
    "\n",
    "plt.savefig('images_per_turtle.png')\n",
    "plt.show()"
   ]
  },
  {
   "cell_type": "markdown",
   "metadata": {},
   "source": [
    "# Preprocessing"
   ]
  },
  {
   "cell_type": "markdown",
   "metadata": {},
   "source": [
    "Create three mappings and get the paths to the training set image files.\n",
    "1. `labels` : turtle ID --> unique integer labels\n",
    "1. `label_lookup` : unique integer labels --> turtle ID\n",
    "1. `image_to_turtle` :  image IDs to turtle IDs (training set only)."
   ]
  },
  {
   "cell_type": "code",
   "execution_count": null,
   "metadata": {},
   "outputs": [],
   "source": [
    "# required by current pipeline\n",
    "turtle_ids = sorted(np.unique(df.turtle_id)) + ['new_turtle']\n",
    "\n",
    "image_files = [os.path.join(IMAGE_DIR, f) for f in os.listdir(IMAGE_DIR) if f.split('.')[0] in df.image_id.values]\n",
    "image_ids = [os.path.basename(f).split('.')[0] for f in image_files]\n",
    "\n",
    "image_to_turtle = dict(zip(df.image_id, df.turtle_id))\n",
    "labels = dict(zip(turtle_ids, np.arange(len(turtle_ids))))\n",
    "\n",
    "loaded_labels = [labels[image_to_turtle[id]] for id in image_ids]"
   ]
  },
  {
   "cell_type": "code",
   "execution_count": null,
   "metadata": {},
   "outputs": [],
   "source": [
    "# from tutorial.ipynb, but not currently used in pipeline\n",
    "label_lookup = {v: k for k, v in labels.items()}\n",
    "num_classes = len(labels)\n",
    "\n",
    "image_turtle_ids = [image_to_turtle[id] for id in image_ids]"
   ]
  },
  {
   "cell_type": "code",
   "execution_count": null,
   "metadata": {},
   "outputs": [],
   "source": [
    "NUM_CLASSES = len(turtle_ids)\n",
    "print(f'Number of turtles (classes): {NUM_CLASSES}')"
   ]
  },
  {
   "cell_type": "code",
   "execution_count": null,
   "metadata": {},
   "outputs": [],
   "source": [
    "def crop_and_resize(pil_img, img_size=(224,224)):\n",
    "  \"\"\"Crop square from center of image and resize.\"\"\"\n",
    "\n",
    "  w, h = pil_img.size\n",
    "  crop_size = min(w, h)\n",
    "  crop = pil_img.crop(((w - crop_size) // 2, (h - crop_size) // 2,\n",
    "                       (w + crop_size) // 2, (h + crop_size) // 2))\n",
    "  \n",
    "  return crop.resize(img_size)\n",
    "\n",
    "tqdm.tqdm._instances.clear()\n",
    "loaded_images = [crop_and_resize(Image.open(f)) for f in tqdm.tqdm(image_files)]"
   ]
  },
  {
   "cell_type": "code",
   "execution_count": null,
   "metadata": {},
   "outputs": [],
   "source": [
    "# inspect an image\n",
    "print(loaded_images[0].size)\n",
    "print(len(loaded_images))\n",
    "loaded_images[0]"
   ]
  },
  {
   "cell_type": "code",
   "execution_count": null,
   "metadata": {},
   "outputs": [],
   "source": [
    "ims = tf.stack([tf.convert_to_tensor(np.asarray(im), dtype=tf.float32) for im in loaded_images])\n",
    "labels = tf.stack(loaded_labels)"
   ]
  },
  {
   "cell_type": "code",
   "execution_count": null,
   "metadata": {},
   "outputs": [],
   "source": [
    "train_ds = tf.data.Dataset.from_tensor_slices((ims, labels))\n",
    "train_ds = train_ds.map(lambda x,y: (x/255., tf.one_hot(y, NUM_CLASSES)))\n",
    "\n",
    "print(f'The dataset contains {train_ds.cardinality().numpy()} images.')"
   ]
  },
  {
   "cell_type": "markdown",
   "metadata": {},
   "source": [
    "### Data augmentation\n",
    "https://colab.research.google.com/github/tensorflow/addons/blob/master/docs/tutorials/image_ops.ipynb#scrollTo=tbaIkUCS2eNv\n",
    "\n",
    "Before applying augmentation to our images and hence increasing the size of our training data, we shuffle the current dataset, take a few images and store them in a test set for eventually evaluating our model. We do this to preserve the real-world data we want our model to work on later. The augmentation is then only used on training and validation data to make sure our model learns with a variety of different images and is robust against noise, different colour and brightness values, etc."
   ]
  },
  {
   "cell_type": "code",
   "execution_count": null,
   "metadata": {},
   "outputs": [],
   "source": [
    "BUFFER = train_ds.cardinality().numpy()\n",
    "TEST_SPLIT = 1000\n",
    "\n",
    "#ds = ds.shuffle(buffer_size=BUFFER, reshuffle_each_iteration=False, )\n",
    "test_ds, train_ds = train_ds.take(TEST_SPLIT), train_ds.skip(TEST_SPLIT)\n",
    "\n",
    "print(\n",
    "    f'Train images: {train_ds.cardinality().numpy()}', \n",
    "    f'Test images: {test_ds.cardinality().numpy()}', \n",
    "    sep='\\n')"
   ]
  },
  {
   "cell_type": "markdown",
   "metadata": {},
   "source": [
    "We implemented a bunch of augmentation functions to enhance the small dataset. After applying them, we further split off a validation part from the training images which we can use during the training process to assess the progress."
   ]
  },
  {
   "cell_type": "code",
   "execution_count": null,
   "metadata": {},
   "outputs": [],
   "source": [
    "# from functions.image_augmentation import rotate_images, apply_mean_filter, apply_gaussian_filter, random_hsv, add_noise\n",
    "\n",
    "# ds_rotated = rotate_images(train_ds)\n",
    "# ds_gaussian = apply_gaussian_filter(train_ds)\n",
    "# ds_hsv = random_hsv(train_ds)\n",
    "# ds_noise = add_noise(train_ds, 0.2)\n",
    "\n",
    "# train_ds = train_ds.concatenate(ds_rotated).concatenate(ds_gaussian).concatenate(ds_hsv).concatenate(ds_noise)"
   ]
  },
  {
   "cell_type": "code",
   "execution_count": null,
   "metadata": {},
   "outputs": [],
   "source": [
    "BATCH_SIZE = 64\n",
    "TRAIN_SPLIT = np.round(train_ds.cardinality().numpy() * 0.8)\n",
    "\n",
    "train_ds, val_ds = train_ds.take(TRAIN_SPLIT), train_ds.skip(TRAIN_SPLIT)\n",
    "\n",
    "train_ds = train_ds.shuffle(512).batch(BATCH_SIZE, drop_remainder=True).prefetch(tf.data.experimental.AUTOTUNE)\n",
    "train_ds = train_ds.cache(filename='cached_train_ds')\n",
    "\n",
    "val_ds = val_ds.shuffle(256).batch(BATCH_SIZE, drop_remainder=True).prefetch(tf.data.experimental.AUTOTUNE)\n",
    "val_ds = val_ds.cache(filename='cached_val_ds')\n",
    "\n",
    "print(\n",
    "    f'Training dataset contains {train_ds.cardinality().numpy() * BATCH_SIZE} images after data augmentation.',\n",
    "    f'Validation dataset contains {val_ds.cardinality().numpy() * BATCH_SIZE} images.',\n",
    "    sep='\\n')"
   ]
  },
  {
   "cell_type": "markdown",
   "metadata": {},
   "source": [
    "Below is an example of what an image with additive noise looks like. The general image and - most importantly - the shape of the pattern on the turtle's head are preserved, while the original image is altered in such a way that the neural network does not get to see the same image another time."
   ]
  },
  {
   "cell_type": "code",
   "execution_count": null,
   "metadata": {},
   "outputs": [],
   "source": [
    "# %matplotlib inline\n",
    "\n",
    "# example = ds.take(1).map(lambda x,y: (x + tf.random.normal(x.shape, mean=0.0, stddev=0.15, dtype=tf.float32), y))\n",
    "# example = example.map(lambda x,y: (tf.clip_by_value(x, 0.0, 1.0), y))\n",
    "\n",
    "# for elem in example.take(1):\n",
    "#     im, label = elem\n",
    "# plt.imshow(im)\n",
    "# plt.show()"
   ]
  },
  {
   "cell_type": "code",
   "execution_count": null,
   "metadata": {},
   "outputs": [],
   "source": [
    "#tf.keras.preprocessing.image.random_channel_shift\n",
    "#tf.keras.preprocessing.image.random_brightness"
   ]
  },
  {
   "cell_type": "markdown",
   "metadata": {},
   "source": [
    "# Training"
   ]
  },
  {
   "cell_type": "code",
   "execution_count": null,
   "metadata": {},
   "outputs": [],
   "source": [
    "efficientNet = tf.keras.Sequential([\n",
    "    tf.keras.layers.Input(shape=(224,224,3)),\n",
    "    hub.KerasLayer(\"https://tfhub.dev/tensorflow/efficientnet/b0/feature-vector/1\", trainable=False),\n",
    "    tf.keras.layers.Dense(NUM_CLASSES, activation='softmax')\n",
    "])\n",
    "efficientNet.summary()"
   ]
  },
  {
   "cell_type": "code",
   "execution_count": null,
   "metadata": {},
   "outputs": [],
   "source": [
    "efficientNet.compile(\n",
    "    optimizer=tf.keras.optimizers.Adam(),\n",
    "    loss=tf.keras.losses.CategoricalCrossentropy(),\n",
    "    metrics=[tf.keras.metrics.CategoricalAccuracy()]\n",
    ")"
   ]
  },
  {
   "cell_type": "code",
   "execution_count": null,
   "metadata": {},
   "outputs": [],
   "source": [
    "efficientNet.fit(train_ds, epochs=10, validation_data=val_ds)"
   ]
  },
  {
   "cell_type": "code",
   "execution_count": null,
   "metadata": {},
   "outputs": [],
   "source": [
    "efficientNet.evaluate(test_ds)"
   ]
  }
 ],
 "metadata": {
  "interpreter": {
   "hash": "04b1a3d1b468328a21edc8325c3a847f7512f5ee526b7b9ad818cdbcda89e4b9"
  },
  "kernelspec": {
   "display_name": "Python 3.9.10 ('turtleRecall')",
   "language": "python",
   "name": "python3"
  },
  "language_info": {
   "codemirror_mode": {
    "name": "ipython",
    "version": 3
   },
   "file_extension": ".py",
   "mimetype": "text/x-python",
   "name": "python",
   "nbconvert_exporter": "python",
   "pygments_lexer": "ipython3",
   "version": "3.9.10"
  },
  "orig_nbformat": 4
 },
 "nbformat": 4,
 "nbformat_minor": 2
}
